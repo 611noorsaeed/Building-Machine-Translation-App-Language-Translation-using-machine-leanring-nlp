{
 "cells": [
  {
   "cell_type": "markdown",
   "id": "dddc2b87",
   "metadata": {},
   "source": [
    "#  Language Translation \n",
    "\n",
    "\n",
    "Language translation is the process of converting text or speech from one language to another while preserving its meaning and context. This involves using linguistic and computational techniques to interpret the source language and generate the equivalent content in the target language. Modern translation methods often employ machine learning models and neural networks for accuracy and fluency.\n",
    "\n",
    "\n",
    "\n",
    "# We have two problems\n",
    "\n",
    "\n",
    "# First Problem: Language Detection \n",
    "\n",
    "The first problem is to know how you can detect language for particular data. In this case, you can use a simple python package called langdetect.\n",
    "\n",
    "\n",
    "supports 55 languages\n",
    "\n",
    "af, ar, bg, bn, ca, cs, cy, da, de, el, en, es, et, fa, fi, fr, gu, he,\n",
    "hi, hr, hu, id, it, ja, kn, ko, lt, lv, mk, ml, mr, ne, nl, no, pa, pl,\n",
    "pt, ro, ru, sk, sl, so, sq, sv, sw, ta, te, th, tl, tr, uk, ur, vi, zh-cn, zh-tw\n",
    "\n",
    "\n",
    "pip install langdetect\n",
    "\n",
    "\n",
    "\n",
    "# Second Problem: Language Translation\n",
    "\n",
    "\n",
    "The second problem you need to solve is to translate a text from one language to the language of your choice. In this case, you will use another useful python package called google_trans_new.\n",
    "\n",
    "\n",
    "google_trans_new is a free and unlimited python package that implemented Google Translate API and It also performs auto language detection.\n",
    "\n",
    "Install google_trans_new\n",
    "\n",
    "\n",
    "but it has some issues so we will use alternatives....\n",
    "\n",
    "\n",
    "pip install googletrans==4.0.0-rc1\n",
    "\n",
    "\n",
    "\n"
   ]
  },
  {
   "cell_type": "markdown",
   "id": "a3e5ffc9",
   "metadata": {},
   "source": [
    "# Language Detection"
   ]
  },
  {
   "cell_type": "code",
   "execution_count": 3,
   "id": "72f26982",
   "metadata": {},
   "outputs": [
    {
     "name": "stdout",
     "output_type": "stream",
     "text": [
      "Detect Language : ur\n",
      "Probability  [ur:0.999999246445326]\n"
     ]
    }
   ],
   "source": [
    "from langdetect import detect,detect_langs,DetectorFactory\n",
    "DetectorFactory.seed = 0\n",
    "\n",
    "\n",
    "sentence = \"آج کا دن بہت خوبصورت ہے\"\n",
    "\n",
    "print(\"Detect Language :\", detect(sentence))\n",
    "print(\"Probability \",detect_langs(sentence))"
   ]
  },
  {
   "cell_type": "code",
   "execution_count": 4,
   "id": "6f877aa4",
   "metadata": {},
   "outputs": [
    {
     "name": "stdout",
     "output_type": "stream",
     "text": [
      "Detect Language: hi\n",
      "Probability: [hi:0.9999977479090416]\n"
     ]
    }
   ],
   "source": [
    "sentence = \"आज का दिन बहुत खूबसूरत है\"\n",
    "\n",
    "print(\"Detect Language:\", detect(sentence))\n",
    "print(\"Probability:\", detect_langs(sentence))"
   ]
  },
  {
   "cell_type": "code",
   "execution_count": 5,
   "id": "16aed43a",
   "metadata": {},
   "outputs": [
    {
     "name": "stdout",
     "output_type": "stream",
     "text": [
      "Detect Language: en\n",
      "Probability: [en:0.9999970122854229]\n"
     ]
    }
   ],
   "source": [
    "sentence = \"it is very pleasant today\"\n",
    "\n",
    "print(\"Detect Language:\", detect(sentence))\n",
    "print(\"Probability:\", detect_langs(sentence))"
   ]
  },
  {
   "cell_type": "markdown",
   "id": "8c7ddee3",
   "metadata": {},
   "source": [
    "# Language Translation"
   ]
  },
  {
   "cell_type": "code",
   "execution_count": 7,
   "id": "5e767b24",
   "metadata": {},
   "outputs": [
    {
     "name": "stdout",
     "output_type": "stream",
     "text": [
      "Translated Text: Today's day is very beautiful\n"
     ]
    }
   ],
   "source": [
    "from googletrans import Translator\n",
    "\n",
    "translator = Translator()\n",
    "\n",
    "sentence = \"آج کا دن بہت خوبصورت ہے\"\n",
    "translate_text = translator.translate(sentence, src='ur', dest='en')\n",
    "\n",
    "print(\"Translated Text:\", translate_text.text)\n"
   ]
  },
  {
   "cell_type": "code",
   "execution_count": 8,
   "id": "04cc2cf1",
   "metadata": {},
   "outputs": [
    {
     "name": "stdout",
     "output_type": "stream",
     "text": [
      "Translated Text: Today is very beautiful\n"
     ]
    }
   ],
   "source": [
    "sentence =  \"आज का दिन बहुत खूबसूरत है\"\n",
    "translate_text = translator.translate(sentence, src='hi', dest='en')\n",
    "\n",
    "print(\"Translated Text:\", translate_text.text)"
   ]
  },
  {
   "cell_type": "markdown",
   "id": "1272dc35",
   "metadata": {},
   "source": [
    "# Detections and translation both"
   ]
  },
  {
   "cell_type": "code",
   "execution_count": 14,
   "id": "0a3d3af4",
   "metadata": {},
   "outputs": [],
   "source": [
    "from langdetect import detect\n",
    "from googletrans import Translator\n",
    "\n",
    "def detect_and_translate(text, target_lang):\n",
    "    # Detect language\n",
    "    result_lang = detect(text)\n",
    "    \n",
    "    # Translate language\n",
    "    translator = Translator()\n",
    "    translate_text = translator.translate(text, dest=target_lang).text\n",
    "\n",
    "    return result_lang, translate_text "
   ]
  },
  {
   "cell_type": "code",
   "execution_count": 15,
   "id": "d5a51d47",
   "metadata": {},
   "outputs": [
    {
     "name": "stdout",
     "output_type": "stream",
     "text": [
      "Language: hi\n",
      "Translation: Today is very beautiful\n"
     ]
    }
   ],
   "source": [
    "# example 1\n",
    "# Sample sentence in Hindi\n",
    "sentence = \"आज का दिन बहुत खूबसूरत है\"\n",
    "\n",
    "# Detect and translate\n",
    "result_lang, translate_text = detect_and_translate(sentence, target_lang='en')\n",
    "\n",
    "print(\"Language:\", result_lang)\n",
    "print(\"Translation:\", translate_text)"
   ]
  },
  {
   "cell_type": "code",
   "execution_count": 16,
   "id": "2959e1a4",
   "metadata": {},
   "outputs": [
    {
     "name": "stdout",
     "output_type": "stream",
     "text": [
      "Language: ur\n",
      "Translation: I love you\n"
     ]
    }
   ],
   "source": [
    "# example 1\n",
    "# Sample sentence in urdu\n",
    "sentence = \"مجھے تم سے پیار ہے\"\n",
    "\n",
    "# Detect and translate\n",
    "result_lang, translate_text = detect_and_translate(sentence, target_lang='en')\n",
    "\n",
    "print(\"Language:\", result_lang)\n",
    "print(\"Translation:\", translate_text)"
   ]
  },
  {
   "cell_type": "code",
   "execution_count": 17,
   "id": "e06906db",
   "metadata": {},
   "outputs": [
    {
     "name": "stdout",
     "output_type": "stream",
     "text": [
      "Language: en\n",
      "Translation: ہم ٹیکنالوجی کے دور میں رہ رہے ہیں۔\n"
     ]
    }
   ],
   "source": [
    "# example 1\n",
    "# Sample sentence in \n",
    "sentence = \"We are living in the era of technology.\"\n",
    "# Detect and translate\n",
    "result_lang, translate_text = detect_and_translate(sentence, target_lang='ur')\n",
    "\n",
    "print(\"Language:\", result_lang)\n",
    "print(\"Translation:\", translate_text)"
   ]
  },
  {
   "cell_type": "code",
   "execution_count": null,
   "id": "4805e825",
   "metadata": {},
   "outputs": [],
   "source": []
  }
 ],
 "metadata": {
  "kernelspec": {
   "display_name": "Python 3 (ipykernel)",
   "language": "python",
   "name": "python3"
  },
  "language_info": {
   "codemirror_mode": {
    "name": "ipython",
    "version": 3
   },
   "file_extension": ".py",
   "mimetype": "text/x-python",
   "name": "python",
   "nbconvert_exporter": "python",
   "pygments_lexer": "ipython3",
   "version": "3.9.12"
  }
 },
 "nbformat": 4,
 "nbformat_minor": 5
}
